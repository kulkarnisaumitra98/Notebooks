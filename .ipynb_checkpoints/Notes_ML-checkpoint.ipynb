{
 "cells": [
  {
   "cell_type": "code",
   "execution_count": 5,
   "metadata": {},
   "outputs": [],
   "source": [
    "import numpy as np\n",
    "import matplotlib.pyplot as plt"
   ]
  },
  {
   "cell_type": "markdown",
   "metadata": {},
   "source": [
    "* **ACCURACY CALCULATION WITH 2 CLASSES**"
   ]
  },
  {
   "cell_type": "code",
   "execution_count": 6,
   "metadata": {},
   "outputs": [
    {
     "name": "stdout",
     "output_type": "stream",
     "text": [
      "Accuracy is 60.0 %\n"
     ]
    }
   ],
   "source": [
    "# ACCURACY CALCULATION WITH 2 CLASSES\n",
    "\n",
    "# if Y is suppose say [1 0 1 0 0] and prediction is [0 0 1 1 0]\n",
    "# then -->\n",
    "\n",
    "Y = np.array([[1,0,1,0,0]])\n",
    "pred = np.array([0,0,1,1,0])\n",
    "acc = (np.dot(Y,pred) + np.dot(1 - Y,1 - pred)) / Y.size\n",
    "\n",
    "print(\"Accuracy is\",acc[0] * 100, \"%\")"
   ]
  },
  {
   "cell_type": "markdown",
   "metadata": {},
   "source": [
    "* **SKLEARN REGRESSION**"
   ]
  },
  {
   "cell_type": "code",
   "execution_count": 7,
   "metadata": {},
   "outputs": [
    {
     "data": {
      "image/png": "[encoded data removed]",
      "text/plain": [
       "<Figure size 432x288 with 1 Axes>"
      ]
     },
     "metadata": {
      "needs_background": "light"
     },
     "output_type": "display_data"
    },
    {
     "data": {
      "image/png": "[encoded data removed]",
      "text/plain": [
       "<Figure size 432x288 with 1 Axes>"
      ]
     },
     "metadata": {
      "needs_background": "light"
     },
     "output_type": "display_data"
    }
   ],
   "source": [
    "# didnt know how to generate datasets hence the value intialization\n",
    "\n",
    "X = np.arange(1,11).reshape(10,1) # feature vector\n",
    "y = np.array([1,2,3.5,4,4.7,6,6.9,8.3,9,10]).reshape(10,1)  # output vector\n",
    "\n",
    "plt.scatter(X,y,s=10,c='r')  # plots our dataset\n",
    "plt.show()\n",
    "\n",
    "\n",
    "from sklearn.linear_model import LinearRegression\n",
    "\n",
    "regressor = LinearRegression()\n",
    "regressor.fit(X,y)\n",
    "y_pred = regressor.predict(X) # fits our training dataset and returns a values predicted by hypotesis function\n",
    "\n",
    "plt.scatter(X,y,s=10,c='r') # earlier dataset\n",
    "plt.plot(X,y_pred,color='b') # hypothesis predicted plot\n",
    "plt.show()"
   ]
  },
  {
   "cell_type": "markdown",
   "metadata": {},
   "source": [
    "* **FORWAR BACK PROPAGATION**"
   ]
  },
  {
   "cell_type": "markdown",
   "metadata": {},
   "source": [
    " **Forward Propagation**\n",
    " \n",
    " We have our input feature vector X and randomly initialized $W^{[1]}$,$W^{[2]}$,..,$W^{[L]}$ weight vectors and $b^{[1]}$,$b^{[2]}$,..,$b^{[L]}$ resp.\n",
    "\n",
    " At each step/layer we will first calculate the pre-activation parameter $Z^{[l]}$  then the activation parameter $a^{[l]}$\n",
    " \n",
    " The generalized formulas are :-\n",
    "\n",
    " Input --> $a^{[l-1]}$, $W^{[l]}$, $b^{[l]}$\n",
    "\n",
    " * $Z^{[l]}$ = $W^{[l]}$ * $a^{[l-1]}$ + $b^{[l]}$\n",
    " * $a^{[l]}$ = $g(Z^{[l]})$ where $g(x)$ is the activation function used\n",
    " \n",
    " \n",
    " eg. we would start with  l = 1 ie $A^{[0]}$ i.e input vector X and suppose activation is Tanh(x) function:-\n",
    " \n",
    " * $Z^{[1]}$ = $W^{[1]}$ * $X$ + $b^{[1]}$\n",
    " * $a^{[1]}$ = $tanh(Z^{[1]})$\n",
    " \n",
    " and finally the last layer would be :-\n",
    "\n",
    " * $Z^{[L]}$ = $W^{[L]}$ * $a^{[L-1]}$ + $b^{[L]}$\n",
    " * $a^{[L]}$ = $tanh(Z^{[L]})$\n",
    " \n",
    " \n",
    " At each step of our calculation we will store the **linear cache** -> ($a^{[l-1]}$, $W^{[l]}$, $b^{[l]}$) and the **activation cache** ( $Z^{[l]}$, $a^{[l]}$ )\n",
    " \n",
    " \n",
    " **Back Propagation**\n",
    " \n",
    "After travelling through the layers and finally calculating the value of $A^{[L]}$ we traverse back to calculate  the derivatives with respect to loss function by using chain rule and finally reducing the them to 0 in order to   reduce the cost.\n",
    "\n",
    "Loss -> $$L =  -\\frac{1}{m} \\sum\\limits_{i = 1}^{m} (y^{(i)}\\log\\left(a^{[L] (i)}\\right) + (1-y^{(i)})\\log\\left(1- a^{[L](i)}\\right)) \\tag{7}$$\n",
    "\n",
    "here we will define some notations\n",
    "\n",
    "$dW = \\frac{dL}{dW}$ &emsp;&emsp; $dA = \\frac{dL}{dA}$ &emsp;&emsp;$db = \\frac{dL}{db}$   \n",
    "We generalize B.P as follows for each layer :-\n",
    "\n",
    "* Input -->  $da^{[l]}$\n",
    "* Output --> $dW^{[l]}$, $db^{[l]}$, $da^{[l - 1]}$ \n",
    "\n",
    "repeat and store the output as grads for each layer until we finally calculate last $dW^{[1]}$, $db^{[1]}$\n",
    "\n",
    "\n",
    "after forward propogating and calculating the loss, we start B.P with our first input as $dA^{[L]}$ which we will calculate $dW^{[L]}$, $db^{[L]}$ and also $da^{[L - 1]}$ which will now feed as input and repeat this process.\n",
    "\n",
    "\n",
    "The formulas for the derivates can be derived using simple chain rule for the forward prop formulas:-\n",
    "\n",
    "* $\\frac{dL}{dA^{[L]}} = -\\frac{y}{A^{[L]}} + \\frac{(1 - y)}{(1 - A^{[L]})}$ \n",
    "\n",
    "starting with above we will now write generalised formulas for the derivates of $l^{th}$ layer\n",
    "\n",
    "* $dZ^{[l]}$ = $dA^{[l]}$ * $g'(Z^{[l]})$  &emsp;&emsp;&emsp; ---->  $dZ^{[l]}$ = $\\frac{dL}{dA^{[l]}}$ * $\\frac{dA^{[l]}}{dZ^{[l]}}$ \n",
    "* $dW^{[l]}$ = $dZ^{[l]}$ * $A^{[l-1]T}$  &emsp;&emsp;&emsp;----> $dW^{[l]}$ = $\\frac{dL}{dZ^{[l]}}$ * $\\frac{dZ^{[l]}}{dW^{[l]}}$\n",
    "* $db^{[l]}$ = $\\sum dZ^{[l]}$\n",
    "* $dA^{[l-1]}$ = $W^{[l]T}$ * $dZ^{[l]}$ &emsp;&emsp; ----> $dA^{[l-1]}$ = $\\frac{dL}{dZ^{[l]}}$ * $\\frac{dZ^{[l]}}{dA^{[l-1]}}$\n",
    "\n",
    "\n",
    "We can see in the above formulas that we need the cache stored during the forward prop calculation"
   ]
  },
  {
   "cell_type": "markdown",
   "metadata": {},
   "source": [
    "* ## NUMPY ##"
   ]
  },
  {
   "cell_type": "markdown",
   "metadata": {},
   "source": [
    "* **REPLACING VALUES IN NUMPY ARRAY IF AN CONDITION IS MET**"
   ]
  },
  {
   "cell_type": "code",
   "execution_count": 4,
   "metadata": {},
   "outputs": [
    {
     "name": "stdout",
     "output_type": "stream",
     "text": [
      "[[ True  True False False  True False False False  True  True]]\n",
      "[[1 1 0 0 1 0 0 0 1 1]]\n",
      "[[2.         2.         0.42494302 0.23202087 2.         0.3788701\n",
      "  0.30447524 0.06546844 2.         2.        ]]\n"
     ]
    }
   ],
   "source": [
    "# REPLACING VALUES IN NUMPY ARRAY IF AN CONDITION IS MET\n",
    "\n",
    "A = np.random.rand(1,10) # intializes numbers between (0,1)\n",
    "B = A > 0.5 # This will create an array of true or false values\n",
    "print(B)\n",
    "B = B.astype('int') \n",
    "print(B)\n",
    "\n",
    "\n",
    "A[A > 0.5] = 2 # better syntax , replaces numbers with 2 if condition met \n",
    "print(A)"
   ]
  },
  {
   "cell_type": "markdown",
   "metadata": {},
   "source": [
    "*  ## PLOTING ##"
   ]
  },
  {
   "cell_type": "markdown",
   "metadata": {},
   "source": [
    "* **Meshgrid and contour plotting**"
   ]
  },
  {
   "cell_type": "code",
   "execution_count": 5,
   "metadata": {},
   "outputs": [
    {
     "data": {
      "image/png": "[encoded data removed]",
      "text/plain": [
       "<Figure size 432x288 with 1 Axes>"
      ]
     },
     "metadata": {
      "needs_background": "light"
     },
     "output_type": "display_data"
    },
    {
     "data": {
      "image/png": "[encoded data removed]",
      "text/plain": [
       "<Figure size 432x288 with 1 Axes>"
      ]
     },
     "metadata": {
      "needs_background": "light"
     },
     "output_type": "display_data"
    }
   ],
   "source": [
    "# This is essential in plotting desicion boundaries\n",
    "\n",
    "x_l = -5        # lower limit of our plot of x axis\n",
    "x_r = 6         # upper limit of our plot of x axis\n",
    "x_space = 1\n",
    "x_m = int((x_r - x_l)/ x_space)\n",
    "\n",
    "y_l = -5        # lower limit of our plot of y axis\n",
    "y_r = 6         # upper limit of our plot of y axis\n",
    "y_space = 1\n",
    "y_m = int((y_r - y_l)/ y_space)\n",
    "\n",
    "x = np.arange(x_l,x_r, x_space).reshape(x_m,1)  # making 1 d arrays to make mesh grids\n",
    "y = np.arange(y_l,y_r, y_space).reshape(y_m,1)\n",
    "\n",
    "# MESHGRID creates a 2d matrix of the 1d array defined above so we can plot (x,y) coordinates \n",
    "\n",
    "'''\n",
    "x =   0 1 2 3 4        y =   0 0 0 0 0\n",
    "      0 1 2 3 4              1 1 1 1 1\n",
    "      0 1 2 3 4              2 2 2 2 2\n",
    "      0 1 2 3 4              3 3 3 3 3\n",
    "      0 1 2 3 4              4 4 4 4 4\n",
    "      \n",
    "      points will be (x[i,j]),y[i,j]) --> (0,0),(1,0)....(4,4)\n",
    "'''\n",
    "\n",
    "xx,yy = np.meshgrid(x,y)\n",
    "plt.axes().set_aspect('equal')  # makes axis ratio equal\n",
    "plt.plot(xx,yy,marker='.',color='k',linestyle='none')\n",
    "plt.show()  # will plot the x,y coordinates as mentioned above from meshgrid\n",
    "\n",
    "# now if we want to plot contour of a function eg x^2 + y^2 = 25, then we can do it using\n",
    "# contour function\n",
    "\n",
    "Z = xx ** 2 + yy ** 2 # we define the function \n",
    "plt.axes().set_aspect('equal')\n",
    "plt.contour(xx, yy,Z,levels=[25])  # requires meshgrid(values) as parameter and value of Z\n",
    "plt.show()                         # we can have multiple polts with varying values of Z in\n",
    "                                   # levels parameter\n",
    "    \n",
    "# we can make our plot more sharp using higher points in meshgrid by decreasing the x_space,y_space"
   ]
  },
  {
   "cell_type": "markdown",
   "metadata": {},
   "source": [
    "* ## GENERATING DATASETS ##"
   ]
  },
  {
   "cell_type": "code",
   "execution_count": 1,
   "metadata": {
    "scrolled": true
   },
   "outputs": [
    {
     "ename": "ModuleNotFoundError",
     "evalue": "No module named 'sklearn'",
     "output_type": "error",
     "traceback": [
      "\u001b[0;31m---------------------------------------------------------------------------\u001b[0m",
      "\u001b[0;31mModuleNotFoundError\u001b[0m                       Traceback (most recent call last)",
      "\u001b[0;32m<ipython-input-1-b7d73594a293>\u001b[0m in \u001b[0;36m<module>\u001b[0;34m\u001b[0m\n\u001b[1;32m      1\u001b[0m \u001b[0;31m# Generating simple regression dataset\u001b[0m\u001b[0;34m\u001b[0m\u001b[0;34m\u001b[0m\u001b[0;34m\u001b[0m\u001b[0m\n\u001b[1;32m      2\u001b[0m \u001b[0;34m\u001b[0m\u001b[0m\n\u001b[0;32m----> 3\u001b[0;31m \u001b[0;32mfrom\u001b[0m \u001b[0msklearn\u001b[0m\u001b[0;34m.\u001b[0m\u001b[0mdatasets\u001b[0m \u001b[0;32mimport\u001b[0m \u001b[0mmake_regression\u001b[0m\u001b[0;34m\u001b[0m\u001b[0;34m\u001b[0m\u001b[0m\n\u001b[0m\u001b[1;32m      4\u001b[0m \u001b[0;34m\u001b[0m\u001b[0m\n\u001b[1;32m      5\u001b[0m \u001b[0mX\u001b[0m\u001b[0;34m,\u001b[0m\u001b[0my\u001b[0m \u001b[0;34m=\u001b[0m \u001b[0mmake_regression\u001b[0m\u001b[0;34m(\u001b[0m\u001b[0;36m30\u001b[0m\u001b[0;34m,\u001b[0m\u001b[0;36m1\u001b[0m\u001b[0;34m,\u001b[0m \u001b[0mnoise\u001b[0m\u001b[0;34m=\u001b[0m\u001b[0;36m2\u001b[0m\u001b[0;34m)\u001b[0m \u001b[0;31m# 30 -training examples, 1 -features, noise = noise\u001b[0m\u001b[0;34m\u001b[0m\u001b[0;34m\u001b[0m\u001b[0m\n",
      "\u001b[0;31mModuleNotFoundError\u001b[0m: No module named 'sklearn'"
     ]
    }
   ],
   "source": [
    "# Generating simple regression dataset  \n",
    "\n",
    "from sklearn.datasets import make_regression\n",
    "\n",
    "X,y = make_regression(30,1, noise=2) # 30 -training examples, 1 -features, noise = noise\n",
    "plt.plot(X,y,linestyle='none',marker='.')\n",
    "\n",
    "\n",
    "# We can generate other datasets from :-\n",
    "# https://scikit-learn.org/stable/modules/classes.html#module-sklearn.datasets"
   ]
  },
  {
   "cell_type": "code",
   "execution_count": null,
   "metadata": {},
   "outputs": [],
   "source": []
  }
 ],
 "metadata": {
  "kernelspec": {
   "display_name": "Python 3",
   "language": "python",
   "name": "python3"
  },
  "language_info": {
   "codemirror_mode": {
    "name": "ipython",
    "version": 3
   },
   "file_extension": ".py",
   "mimetype": "text/x-python",
   "name": "python",
   "nbconvert_exporter": "python",
   "pygments_lexer": "ipython3",
   "version": "3.6.8"
  }
 },
 "nbformat": 4,
 "nbformat_minor": 2
}
