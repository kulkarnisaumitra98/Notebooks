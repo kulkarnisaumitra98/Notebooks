{
 "cells": [
  {
   "cell_type": "code",
   "execution_count": 56,
   "metadata": {},
   "outputs": [
    {
     "name": "stdout",
     "output_type": "stream",
     "text": [
      "[1, 2, 3, 4, 'a', 'b', 'c', 'd']\n",
      "{'a': 1, 'b': '2'}\n"
     ]
    }
   ],
   "source": [
    "# Spread operator in python\n",
    "\n",
    "l1 = [1,2,3,4]\n",
    "l2 = ['a', 'b', 'c', 'd']\n",
    "\n",
    "# * operator can unpack lists\n",
    "concated_list = [*l1, *l2]\n",
    "print(concated_list)\n",
    "\n",
    "\n",
    "def keyword_args(**kw):\n",
    "    # We recieve the keyword arguments as a dictonary\n",
    "    print(kw)\n",
    "    \n",
    "my_dict = {'a': 1, 'b': '2'}\n",
    "\n",
    "keyword_args(**my_dict) # equivalent = keyword_args(a=1, b='2')\n",
    "# Can be useful in passing arguments to functions that call other functions\n"
   ]
  },
  {
   "cell_type": "code",
   "execution_count": 57,
   "metadata": {},
   "outputs": [
    {
     "name": "stdout",
     "output_type": "stream",
     "text": [
      "args- ('a', 1)\n",
      "kwargs- {'key': 'a', 'foo': 1}\n"
     ]
    }
   ],
   "source": [
    "# args and kwargs in python\n",
    "\n",
    "def goo(*args, **kwargs):\n",
    "    print(\"args-\", args)\n",
    "    print(\"kwargs-\", kwargs)\n",
    "    \n",
    "goo('a', 1, key=\"a\", foo=1)"
   ]
  },
  {
   "cell_type": "code",
   "execution_count": 58,
   "metadata": {},
   "outputs": [],
   "source": [
    "# Decorators in python\n",
    "# Allows to add new functionality to an existing function without modifying its structure\n",
    "\n",
    "# Example\n",
    "def logger(func):\n",
    "    def wrapper(*args, **kwargs):\n",
    "        print(\"I am a logger, which logs results of functions which returns string\")\n",
    "        # open file..write .... logic....\n",
    "        func(*args, **kwargs)\n",
    "        print(\"Logged successfully\")        \n",
    "    \n",
    "    return wrapper"
   ]
  },
  {
   "cell_type": "code",
   "execution_count": 59,
   "metadata": {},
   "outputs": [
    {
     "name": "stdout",
     "output_type": "stream",
     "text": [
      "I am a logger, which logs results of functions which returns string\n",
      "Addtion is  7\n",
      "Logged successfully\n",
      "I am a logger, which logs results of functions which returns string\n",
      "Addtion is  13\n",
      "Logged successfully\n"
     ]
    }
   ],
   "source": [
    "def addtion(x,y):\n",
    "    print(\"Addtion is \", x + y)\n",
    "    \n",
    "# This is how decoration works\n",
    "\n",
    "addition_logger = logger(addtion)\n",
    "\n",
    "# This is logged adder\n",
    "addition_logger(3,4)\n",
    "\n",
    "# This is an easier way of adding an decorator instead of the above method\n",
    "@logger\n",
    "def addition2(x,y):\n",
    "    print(\"Addtion is \", x + y)\n",
    "\n",
    "addition2(5,8)"
   ]
  },
  {
   "cell_type": "code",
   "execution_count": 60,
   "metadata": {},
   "outputs": [
    {
     "name": "stdout",
     "output_type": "stream",
     "text": [
      "Log message\n",
      "Before Wrapped\n",
      "Original Message\n",
      "After Wrapped\n",
      "My Logger message\n",
      "Before Wrapped\n",
      "Yeet boi\n",
      "After Wrapped\n"
     ]
    }
   ],
   "source": [
    "# A decorator with a parameter\n",
    "\n",
    "def message_logger(log_message):\n",
    "    print(log_message)\n",
    "    def wrapper(func):\n",
    "        print(\"Before Wrapped\")\n",
    "        def inner(*args, **kw):\n",
    "            func(*args, **kw)\n",
    "            print(\"After Wrapped\")        \n",
    "        \n",
    "        return inner\n",
    "    \n",
    "    return wrapper\n",
    "        \n",
    "def bar(original_message):\n",
    "    print(original_message)\n",
    "\n",
    "# Inner working\n",
    "messaged_logger = message_logger(\"Log message\")(bar)\n",
    "messaged_logger(\"Original Message\")\n",
    "\n",
    "\n",
    "# Equivalent decorator\n",
    "\n",
    "@message_logger('My Logger message')\n",
    "def bar2(original_message):\n",
    "    print(original_message)\n",
    "\n",
    "bar2(\"Yeet boi\")"
   ]
  }
 ],
 "metadata": {
  "kernelspec": {
   "display_name": "Python 3",
   "language": "python",
   "name": "python3"
  },
  "language_info": {
   "codemirror_mode": {
    "name": "ipython",
    "version": 3
   },
   "file_extension": ".py",
   "mimetype": "text/x-python",
   "name": "python",
   "nbconvert_exporter": "python",
   "pygments_lexer": "ipython3",
   "version": "3.6.9"
  }
 },
 "nbformat": 4,
 "nbformat_minor": 2
}
